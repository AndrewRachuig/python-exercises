{
 "cells": [
  {
   "cell_type": "code",
   "execution_count": 1,
   "id": "ca0d7b5e",
   "metadata": {},
   "outputs": [
    {
     "name": "stdout",
     "output_type": "stream",
     "text": [
      "Hello World in Jupyter!\n"
     ]
    }
   ],
   "source": [
    "print(\"Hello World in Jupyter!\")"
   ]
  },
  {
   "cell_type": "code",
   "execution_count": null,
   "id": "c1b67ce2",
   "metadata": {},
   "outputs": [],
   "source": [
    "name = input(\"What is your name?\\n\")"
   ]
  },
  {
   "cell_type": "code",
   "execution_count": null,
   "id": "e9d9ff26",
   "metadata": {},
   "outputs": [],
   "source": [
    "print(f\"Welcome to Jupyter Notebook {name}!\")"
   ]
  },
  {
   "cell_type": "code",
   "execution_count": null,
   "id": "51cdbb49",
   "metadata": {},
   "outputs": [],
   "source": [
    "# NOTE 1: To run a current cell and then move cursor to next cell, type 'SHIFT-Return', otherwise just to run a current cell type \"CMD-return\"\n"
   ]
  },
  {
   "cell_type": "code",
   "execution_count": null,
   "id": "f5d8bc3c",
   "metadata": {},
   "outputs": [],
   "source": [
    "# NOTE 2: To save and create a checkpoint, type 'cmd-S'"
   ]
  },
  {
   "cell_type": "code",
   "execution_count": null,
   "id": "f6689845",
   "metadata": {},
   "outputs": [],
   "source": [
    "# NOTE 3: To use code completion while typing in a cell hit 'Tab', or indent if no code to complete."
   ]
  },
  {
   "cell_type": "code",
   "execution_count": null,
   "id": "4944d361",
   "metadata": {},
   "outputs": [],
   "source": []
  }
 ],
 "metadata": {
  "kernelspec": {
   "display_name": "Python 3 (ipykernel)",
   "language": "python",
   "name": "python3"
  },
  "language_info": {
   "codemirror_mode": {
    "name": "ipython",
    "version": 3
   },
   "file_extension": ".py",
   "mimetype": "text/x-python",
   "name": "python",
   "nbconvert_exporter": "python",
   "pygments_lexer": "ipython3",
   "version": "3.9.7"
  }
 },
 "nbformat": 4,
 "nbformat_minor": 5
}
